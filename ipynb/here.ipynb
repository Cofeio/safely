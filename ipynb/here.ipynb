{
 "cells": [
  {
   "cell_type": "code",
   "execution_count": null,
   "metadata": {},
   "outputs": [],
   "source": [
    "https://gfe.api.here.com/2/search/proximity.json\n",
    "?layer_ids=4711\n",
    "&app_id={YOUR_APP_ID}\n",
    "&app_code={YOUR_APP_CODE}\n",
    "&proximity=50.0,8.0,500\n",
    "&key_attribute=POSTCODE"
   ]
  },
  {
   "cell_type": "code",
   "execution_count": 2,
   "metadata": {},
   "outputs": [],
   "source": [
    "#payload = {'layer_ids': 4711, 'key2': 'value2'}\n",
    "import requests\n",
    "r = requests.get('''https://gfe.api.here.com/2/search/proximity.json\n",
    "?layer_ids=4711\n",
    "&app_id=Q9DFviW72bnUFF5lQiSH\n",
    "&app_code=wVpTZJ8f-L5P-v69IRRwhA\n",
    "&proximity=50.0,8.0,500\n",
    "&key_attribute=POSTCODE''')"
   ]
  },
  {
   "cell_type": "code",
   "execution_count": 3,
   "metadata": {},
   "outputs": [
    {
     "data": {
      "text/plain": [
       "<Response [403]>"
      ]
     },
     "execution_count": 3,
     "metadata": {},
     "output_type": "execute_result"
    }
   ],
   "source": [
    "r"
   ]
  },
  {
   "cell_type": "code",
   "execution_count": null,
   "metadata": {},
   "outputs": [],
   "source": []
  }
 ],
 "metadata": {
  "kernelspec": {
   "display_name": "Python 2",
   "language": "python",
   "name": "python2"
  },
  "language_info": {
   "codemirror_mode": {
    "name": "ipython",
    "version": 2
   },
   "file_extension": ".py",
   "mimetype": "text/x-python",
   "name": "python",
   "nbconvert_exporter": "python",
   "pygments_lexer": "ipython2",
   "version": "2.7.10"
  }
 },
 "nbformat": 4,
 "nbformat_minor": 2
}
